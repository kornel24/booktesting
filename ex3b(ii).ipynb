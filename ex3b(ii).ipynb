{
 "cells": [
  {
   "cell_type": "code",
   "execution_count": 25,
   "id": "0a449bf1-5521-4fa2-b708-d4c902373ac4",
   "metadata": {},
   "outputs": [
    {
     "name": "stdout",
     "output_type": "stream",
     "text": [
      "Using matplotlib backend: Qt5Agg\n"
     ]
    }
   ],
   "source": [
    "import numpy as np\n",
    "import matplotlib.pyplot as plt\n",
    "%matplotlib\n",
    "\n",
    "sims = int(1e5)\n",
    "grpsize = []\n",
    "rng = np.random.default_rng()\n",
    "k=1 #the maximum number of adjacent days allowed\n",
    "\n",
    "\n",
    "for j in range(sims):\n",
    "    BD = []\n",
    "    BDdiff = 365 \n",
    "    while BDdiff>k:\n",
    "        newBD = rng.integers(1, 366)\n",
    "        BD.append(newBD)\n",
    "        uniq = list(BD)\n",
    "        uniq.sort()\n",
    "        y=len(uniq)\n",
    "        x= uniq.index(newBD)\n",
    "        if y>1:\n",
    "            if x==y-1:\n",
    "              BDdiff=min(uniq[x]-uniq[x-1], 365-uniq[x]+uniq[0])\n",
    "            elif x==0:\n",
    "               BDdiff=min(uniq[x+1]-uniq[x], 365-uniq[y-1]+uniq[0])\n",
    "            else:\n",
    "                BDdiff=min(uniq[x+1]-uniq[x],uniq[x]-uniq[x-1])\n",
    "        else:\n",
    "            BDdiff=500\n",
    "    grpsize.append(len(BD))\n",
    "\n",
    "Max = max(grpsize)+1\n",
    "\n",
    "fig,(ax1, ax2) = plt.subplots(2,1)\n",
    "bins = np.arange(0, Max)-0.5\n",
    "prob, a1, a2 = ax1.hist(grpsize, bins, \n",
    "               density=True, color='purple')\n",
    "ax1.set_ylabel('Probability distribution')\n",
    "ax1.set_title('Distribution of group size for'\n",
    "              ' same birthday to occur')\n",
    "\n",
    "plt.subplots_adjust(hspace=0.1)\n",
    "plt.setp(ax1.get_xticklabels(), visible=False)\n",
    "\n",
    "cprob, b1, b2 = ax2.hist(grpsize, bins, \n",
    "                density=True, cumulative=True,\n",
    "                histtype='step', color = 'b')\n",
    "ax2.set_ylabel('Cumulative distribution')\n",
    "ax2.set_yticks(np.arange(0,1.01,0.1))\n",
    "ax2.set_ylim([0,1])\n",
    "ax2.set_xlabel('Group size')\n",
    "\n",
    "ax2.axhline(y=0.5, color='r', linestyle=':')\n",
    "ans = np.searchsorted(cprob, 0.5)\n",
    "ax2.text(41, 0.52, 'Pr(>0.5) when group size'\n",
    "                   r'$\\geq$' f'{ans}')\n",
    "people = np.arange(1,101)\n",
    "\n",
    "for X in [ax1,ax2]:\n",
    "    X.set_xticks(range(0,Max,5))\n",
    "    X.set_xlim(0,Max-2)\n",
    "    X.grid()\n",
    "\n",
    "plt.show()\n"
   ]
  },
  {
   "cell_type": "code",
   "execution_count": null,
   "id": "08bda96a-b1b8-4708-803e-c7ef393f95fc",
   "metadata": {},
   "outputs": [],
   "source": []
  },
  {
   "cell_type": "code",
   "execution_count": null,
   "id": "469f491d-69f2-4848-ac82-0002c7d88b10",
   "metadata": {},
   "outputs": [],
   "source": []
  }
 ],
 "metadata": {
  "kernelspec": {
   "display_name": "Python 3 (ipykernel)",
   "language": "python",
   "name": "python3"
  },
  "language_info": {
   "codemirror_mode": {
    "name": "ipython",
    "version": 3
   },
   "file_extension": ".py",
   "mimetype": "text/x-python",
   "name": "python",
   "nbconvert_exporter": "python",
   "pygments_lexer": "ipython3",
   "version": "3.9.7"
  }
 },
 "nbformat": 4,
 "nbformat_minor": 5
}
