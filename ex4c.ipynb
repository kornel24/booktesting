{
 "cells": [
  {
   "cell_type": "code",
   "execution_count": 2,
   "id": "de62f94b-6063-4e0a-a1c4-4ccdeca6be5e",
   "metadata": {},
   "outputs": [
    {
     "name": "stdout",
     "output_type": "stream",
     "text": [
      "Using matplotlib backend: Qt5Agg\n"
     ]
    }
   ],
   "source": [
    "\n",
    "import matplotlib.pyplot as plt\n",
    "from random import choice\n",
    "%matplotlib\n",
    "\n",
    "sims = 1e5\n",
    "Ndoors = 4\n",
    "\n",
    "listsims = range(int(sims))\n",
    "round1 = range(Ndoors)\n",
    "\n",
    "staywin, switchwin = 0, 0\n",
    "Pstay = []\n",
    "Pswitch = []\n",
    "\n",
    "for i in listsims:\n",
    "    car = choice(round1)\n",
    "    pick1 = choice(round1) \n",
    "    \n",
    "    monty = [n for n in round1 \n",
    "             if n!= car and n!= pick1]\n",
    "    goat = choice(monty)\n",
    "\n",
    "    round2 = [n for n in round1 \n",
    "              if n!= pick1 and n!=goat]\n",
    "    pick2 = choice(round2)\n",
    "    \n",
    "    monty2 = [n for n in round1 \n",
    "             if n!= car and n!= pick2 and n!= goat]\n",
    "    \n",
    "    goat2 = choice(monty2)\n",
    "    \n",
    "    round3 = [n for n in round1 \n",
    "              if n!= pick2 and n!=goat and n!=goat2]\n",
    "    pick3 = choice(round3)\n",
    "    \n",
    "    if pick2==car: staywin += 1\n",
    "    if pick3==car: switchwin +=1\n",
    "    \n",
    "    p1 = staywin/(i+1)\n",
    "    p2 = switchwin/(i+1)\n",
    "    Pstay.append(p1)\n",
    "    Pswitch.append(p2)\n",
    "    \n",
    "plt.semilogx(listsims, Pstay, 'r', \n",
    "             listsims, Pswitch, 'b')\n",
    "plt.text(5e3, 0.36, f'Pr(win if stay)={p1:.3}')\n",
    "plt.text(5e3, 0.7,f'Pr(win if switch)={p2:.3}')\n",
    "plt.xlim([10, sims])\n",
    "plt.ylim([0,1])\n",
    "plt.xlabel('Number of simulations')\n",
    "plt.ylabel('Probability of winning')\n",
    "plt.title('Monty Hall simulations with 3 doors')\n",
    "plt.grid()\n",
    "plt.show()"
   ]
  },
  {
   "cell_type": "code",
   "execution_count": 5,
   "id": "189c7584-f33f-4fee-9081-9ca237dc98bb",
   "metadata": {},
   "outputs": [
    {
     "name": "stdout",
     "output_type": "stream",
     "text": [
      "Using matplotlib backend: Qt5Agg\n"
     ]
    }
   ],
   "source": [
    "#finding a better strategy\n",
    "#idea is to wait until both goats are revealed\n",
    "\n",
    "import matplotlib.pyplot as plt\n",
    "from random import choice\n",
    "%matplotlib\n",
    "\n",
    "sims = 1e5\n",
    "Ndoors = 4\n",
    "\n",
    "listsims = range(int(sims))\n",
    "round1 = range(Ndoors)\n",
    "\n",
    "staywin, switchwin = 0, 0\n",
    "Pstay = []\n",
    "Pswitch = []\n",
    "\n",
    "for i in listsims:\n",
    "    car = choice(round1)\n",
    "    pick1 = choice(round1) \n",
    "    \n",
    "    monty = [n for n in round1 \n",
    "             if n!= car and n!= pick1]\n",
    "    goat = choice(monty)\n",
    "    \n",
    "    monty2 = [n for n in round1 \n",
    "             if n!= car and n!= pick1 and n!= goat]\n",
    "    \n",
    "    goat2 = choice(monty2)\n",
    "    \n",
    "    round3 = [n for n in round1 \n",
    "              if n!= pick1 and n!=goat and n!=goat2]\n",
    "    pick3 = choice(round3)\n",
    "    \n",
    "    if pick2==car: staywin += 1\n",
    "    if pick3==car: switchwin +=1\n",
    "    \n",
    "    p1 = staywin/(i+1)\n",
    "    p2 = switchwin/(i+1)\n",
    "    Pstay.append(p1)\n",
    "    Pswitch.append(p2)\n",
    "    \n",
    "plt.semilogx(listsims, Pstay, 'r', \n",
    "             listsims, Pswitch, 'b')\n",
    "plt.text(5e3, 0.36, f'Pr(win if stay)={p1:.3}')\n",
    "plt.text(5e3, 0.7,f'Pr(win if switch)={p2:.3}')\n",
    "plt.xlim([10, sims])\n",
    "plt.ylim([0,1])\n",
    "plt.xlabel('Number of simulations')\n",
    "plt.ylabel('Probability of winning')\n",
    "plt.title('Monty Hall simulations with 3 doors')\n",
    "plt.grid()\n",
    "plt.show()"
   ]
  },
  {
   "cell_type": "code",
   "execution_count": null,
   "id": "670b7538-4f2a-45b2-9c4f-c763d4797453",
   "metadata": {},
   "outputs": [],
   "source": []
  }
 ],
 "metadata": {
  "kernelspec": {
   "display_name": "Python 3 (ipykernel)",
   "language": "python",
   "name": "python3"
  },
  "language_info": {
   "codemirror_mode": {
    "name": "ipython",
    "version": 3
   },
   "file_extension": ".py",
   "mimetype": "text/x-python",
   "name": "python",
   "nbconvert_exporter": "python",
   "pygments_lexer": "ipython3",
   "version": "3.9.7"
  }
 },
 "nbformat": 4,
 "nbformat_minor": 5
}
