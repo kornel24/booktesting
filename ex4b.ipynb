{
 "cells": [
  {
   "cell_type": "code",
   "execution_count": 8,
   "id": "89f00ac9-7bf9-4388-8411-bd88ce4b711c",
   "metadata": {},
   "outputs": [
    {
     "name": "stdout",
     "output_type": "stream",
     "text": [
      "Using matplotlib backend: Qt5Agg\n"
     ]
    }
   ],
   "source": [
    "import random\n",
    "import matplotlib.pyplot as plt\n",
    "from random import choice\n",
    "%matplotlib\n",
    "\n",
    "sims = 1e5\n",
    "Ndoors = 10\n",
    "numcars=5\n",
    "goats=Ndoors-numcars\n",
    "\n",
    "listsims = range(int(sims))\n",
    "round1 = range(Ndoors)\n",
    "\n",
    "staywin, switchwin = 0, 0\n",
    "Pstay = []\n",
    "Pswitch = []\n",
    "\n",
    "for i in listsims:\n",
    "    car = random.sample(round1,numcars)\n",
    "    pick1 = choice(round1) \n",
    "    \n",
    "    monty = [n for n in round1 \n",
    "             if n not in car and n!= pick1]\n",
    "    goat = random.sample(monty,goats-1)\n",
    "\n",
    "    round2 = [n for n in round1 \n",
    "              if n!= pick1 and n not in goat]\n",
    "    pick2 = choice(round2)\n",
    "\n",
    "    if pick1 in car: staywin += 1\n",
    "    if pick2 in car: switchwin +=1\n",
    "    \n",
    "    p1 = staywin/(i+1)\n",
    "    p2 = switchwin/(i+1)\n",
    "    Pstay.append(p1)\n",
    "    Pswitch.append(p2)\n",
    "    \n",
    "plt.semilogx(listsims, Pstay, 'r', \n",
    "             listsims, Pswitch, 'b')\n",
    "plt.text(5e3, 0.36, f'Pr(win if stay)={p1:.3}')\n",
    "plt.text(5e3, 0.7,f'Pr(win if switch)={p2:.3}')\n",
    "plt.xlim([10, sims])\n",
    "plt.ylim([0,1])\n",
    "plt.xlabel('Number of simulations')\n",
    "plt.ylabel('Probability of winning')\n",
    "plt.title('Monty Hall simulations with n doors')\n",
    "plt.grid()\n",
    "plt.show()"
   ]
  },
  {
   "cell_type": "code",
   "execution_count": null,
   "id": "f7063295-4cbe-4c8c-9da0-0fb5c2e51eee",
   "metadata": {},
   "outputs": [],
   "source": []
  }
 ],
 "metadata": {
  "kernelspec": {
   "display_name": "Python 3 (ipykernel)",
   "language": "python",
   "name": "python3"
  },
  "language_info": {
   "codemirror_mode": {
    "name": "ipython",
    "version": 3
   },
   "file_extension": ".py",
   "mimetype": "text/x-python",
   "name": "python",
   "nbconvert_exporter": "python",
   "pygments_lexer": "ipython3",
   "version": "3.9.7"
  }
 },
 "nbformat": 4,
 "nbformat_minor": 5
}
