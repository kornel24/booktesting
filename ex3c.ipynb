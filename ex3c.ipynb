{
 "cells": [
  {
   "cell_type": "code",
   "execution_count": null,
   "id": "1be9814c-2891-468f-8c32-6a8b733dbc4a",
   "metadata": {},
   "outputs": [],
   "source": [
    "import numpy as np\n",
    "import matplotlib.pyplot as plt\n",
    "\n",
    "sims = int(1e5)\n",
    "n_values = np.arange(10, 366)\n",
    "average_max_values = []\n",
    "harmonic_numbers=[]\n",
    "\n",
    "rng = np.random.default_rng()\n",
    "\n",
    "for n in n_values:\n",
    "    max_values = []\n",
    "    for _ in range(sims):\n",
    "        Box = []\n",
    "        diffBox = 0\n",
    "        while diffBox < n:\n",
    "            newBox = rng.integers(1, n + 1)\n",
    "            Box.append(newBox)\n",
    "            uniq = set(Box)\n",
    "            diffBox = len(uniq)\n",
    "        max_values.append(len(Box) + 1)\n",
    "\n",
    "    average_max = np.mean(max_values)\n",
    "    average_max_values.append(average_max)\n",
    "    \n",
    "    nharmonic_n = n*np.sum(1 / np.arange(1, n + 1))\n",
    "    harmonic_numbers.append(nharmonic_n)\n",
    "\n",
    "# Plot the results\n",
    "plt.plot(n_values, average_max_values, marker='o', linestyle='-', color='b')\n",
    "plt.plot(n_values, harmonic_numbers, marker='x', linestyle='-', color='r', label='Harmonic Numbers')\n",
    "plt.xlabel('n')\n",
    "plt.ylabel('Average Max Value')\n",
    "plt.title('Average Max Value vs. n')\n",
    "plt.grid()\n",
    "plt.show()\n"
   ]
  },
  {
   "cell_type": "code",
   "execution_count": null,
   "id": "a9e66336-12b2-46e9-bea4-9cb196dc8630",
   "metadata": {},
   "outputs": [],
   "source": []
  }
 ],
 "metadata": {
  "kernelspec": {
   "display_name": "Python 3 (ipykernel)",
   "language": "python",
   "name": "python3"
  },
  "language_info": {
   "codemirror_mode": {
    "name": "ipython",
    "version": 3
   },
   "file_extension": ".py",
   "mimetype": "text/x-python",
   "name": "python",
   "nbconvert_exporter": "python",
   "pygments_lexer": "ipython3",
   "version": "3.9.7"
  }
 },
 "nbformat": 4,
 "nbformat_minor": 5
}
